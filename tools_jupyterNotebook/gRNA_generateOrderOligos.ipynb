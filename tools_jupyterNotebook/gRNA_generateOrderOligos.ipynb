{
 "cells": [
  {
   "cell_type": "code",
   "execution_count": 3,
   "id": "96a82c7c-224a-4777-8ee5-d25b6f53e8a2",
   "metadata": {},
   "outputs": [],
   "source": [
    "import sys, os, gc\n",
    "#from ipywidgets import FileUpload\n",
    "#from IPython.display import display\n",
    "#from Bio.Seq import Seq\n",
    "\n",
    "import pandas as pd\n",
    "import numpy as np"
   ]
  },
  {
   "cell_type": "code",
   "execution_count": 1,
   "id": "ce49c0cc",
   "metadata": {},
   "outputs": [],
   "source": [
    "dict_sgRNA = {\n",
    "    \"LTR2B sgRNA1\":\"TTAACTACTGGGTTTAGGCC\",\n",
    "    \"LTR2B sgRNA2\":\"TAGTGTTGTGAGCCCTTAAA\",\n",
    "    \"LTR2B sgRNA3\":\"GACACCGAGTTGTAGAAGGA\",\n",
    "    \"LTR2B sgRNA4\":\"CTTTATTCAGCTGGGAGCAT\",\n",
    "}"
   ]
  },
  {
   "cell_type": "code",
   "execution_count": 22,
   "id": "2682c696-658c-4bd5-a600-33840436a96c",
   "metadata": {},
   "outputs": [
    {
     "data": {
      "text/html": [
       "<div>\n",
       "<style scoped>\n",
       "    .dataframe tbody tr th:only-of-type {\n",
       "        vertical-align: middle;\n",
       "    }\n",
       "\n",
       "    .dataframe tbody tr th {\n",
       "        vertical-align: top;\n",
       "    }\n",
       "\n",
       "    .dataframe thead th {\n",
       "        text-align: right;\n",
       "    }\n",
       "</style>\n",
       "<table border=\"1\" class=\"dataframe\">\n",
       "  <thead>\n",
       "    <tr style=\"text-align: right;\">\n",
       "      <th></th>\n",
       "      <th>sgRNA</th>\n",
       "      <th>name</th>\n",
       "    </tr>\n",
       "    <tr>\n",
       "      <th>sgRNA_name</th>\n",
       "      <th></th>\n",
       "      <th></th>\n",
       "    </tr>\n",
       "  </thead>\n",
       "  <tbody>\n",
       "    <tr>\n",
       "      <th>LTR2B sgRNA1</th>\n",
       "      <td>TTAACTACTGGGTTTAGGCC</td>\n",
       "      <td>LTR2B sgRNA1</td>\n",
       "    </tr>\n",
       "    <tr>\n",
       "      <th>LTR2B sgRNA2</th>\n",
       "      <td>TAGTGTTGTGAGCCCTTAAA</td>\n",
       "      <td>LTR2B sgRNA2</td>\n",
       "    </tr>\n",
       "    <tr>\n",
       "      <th>LTR2B sgRNA3</th>\n",
       "      <td>GACACCGAGTTGTAGAAGGA</td>\n",
       "      <td>LTR2B sgRNA3</td>\n",
       "    </tr>\n",
       "    <tr>\n",
       "      <th>LTR2B sgRNA4</th>\n",
       "      <td>CTTTATTCAGCTGGGAGCAT</td>\n",
       "      <td>LTR2B sgRNA4</td>\n",
       "    </tr>\n",
       "  </tbody>\n",
       "</table>\n",
       "</div>"
      ],
      "text/plain": [
       "                             sgRNA          name\n",
       "sgRNA_name                                      \n",
       "LTR2B sgRNA1  TTAACTACTGGGTTTAGGCC  LTR2B sgRNA1\n",
       "LTR2B sgRNA2  TAGTGTTGTGAGCCCTTAAA  LTR2B sgRNA2\n",
       "LTR2B sgRNA3  GACACCGAGTTGTAGAAGGA  LTR2B sgRNA3\n",
       "LTR2B sgRNA4  CTTTATTCAGCTGGGAGCAT  LTR2B sgRNA4"
      ]
     },
     "execution_count": 22,
     "metadata": {},
     "output_type": "execute_result"
    }
   ],
   "source": [
    "df_sgRNA = pd.DataFrame.from_dict(dict_sgRNA, orient='index', columns=['sgRNA'])\n",
    "df_sgRNA.index.name = 'sgRNA_name'\n",
    "df_sgRNA['name'] = df_sgRNA.index\n",
    "df_sgRNA"
   ]
  },
  {
   "cell_type": "code",
   "execution_count": 23,
   "id": "4b97e5d0-32ee-45ca-8afa-b86599056adf",
   "metadata": {},
   "outputs": [],
   "source": [
    "# Ligates into 5'BstXI-BlpI3' digested backbone\n",
    "# 5' forward, 5' end\n",
    "FiveF_5E = 'TTG'\n",
    "FiveF_3E = 'GTTTAAGAGC'\n",
    "\n",
    "# 3' reverse (not reverse complement)\n",
    "ThreeR_5E= 'CTTGTTG'\n",
    "ThreeR_3E = 'GTTTAAGAGCTAA'\n",
    "\n",
    "base2complement = {\"A\":\"T\", \"T\":\"A\", \"C\":\"G\", \"G\":\"C\"}\n",
    "\n",
    "def create_F_sequence(seq:str, FiveF_5E:str=\"TTG\", FiveF_3E:str='GTTTAAGAGC'):\n",
    "    # FiveF_5E + seq + FiveF_3E\n",
    "    return FiveF_5E + seq + FiveF_3E\n",
    "\n",
    "def create_R_sequence(seq:str, ThreeR_5E= 'CTTGTTG', ThreeR_3E = 'GTTTAAGAGCTAA'):\n",
    "    ret = ThreeR_5E + seq + ThreeR_3E  # concat alll parts\n",
    "    ret = ret[::-1] # reverse sequence\n",
    "    ret = [base2complement[base] for base in ret]  # take complement\n",
    "    return \"\".join(ret)"
   ]
  },
  {
   "cell_type": "code",
   "execution_count": 24,
   "id": "00e3d1d0-32a5-40af-a6c4-74da9cb4c7d0",
   "metadata": {},
   "outputs": [
    {
     "data": {
      "text/html": [
       "<div>\n",
       "<style scoped>\n",
       "    .dataframe tbody tr th:only-of-type {\n",
       "        vertical-align: middle;\n",
       "    }\n",
       "\n",
       "    .dataframe tbody tr th {\n",
       "        vertical-align: top;\n",
       "    }\n",
       "\n",
       "    .dataframe thead th {\n",
       "        text-align: right;\n",
       "    }\n",
       "</style>\n",
       "<table border=\"1\" class=\"dataframe\">\n",
       "  <thead>\n",
       "    <tr style=\"text-align: right;\">\n",
       "      <th></th>\n",
       "      <th>sgRNA</th>\n",
       "      <th>name</th>\n",
       "      <th>F_oligo</th>\n",
       "      <th>R_oligo</th>\n",
       "    </tr>\n",
       "    <tr>\n",
       "      <th>sgRNA_name</th>\n",
       "      <th></th>\n",
       "      <th></th>\n",
       "      <th></th>\n",
       "      <th></th>\n",
       "    </tr>\n",
       "  </thead>\n",
       "  <tbody>\n",
       "    <tr>\n",
       "      <th>LTR2B sgRNA1</th>\n",
       "      <td>TTAACTACTGGGTTTAGGCC</td>\n",
       "      <td>LTR2B sgRNA1</td>\n",
       "      <td>TTGTTAACTACTGGGTTTAGGCCGTTTAAGAGC</td>\n",
       "      <td>TTAGCTCTTAAACGGCCTAAACCCAGTAGTTAACAACAAG</td>\n",
       "    </tr>\n",
       "    <tr>\n",
       "      <th>LTR2B sgRNA2</th>\n",
       "      <td>TAGTGTTGTGAGCCCTTAAA</td>\n",
       "      <td>LTR2B sgRNA2</td>\n",
       "      <td>TTGTAGTGTTGTGAGCCCTTAAAGTTTAAGAGC</td>\n",
       "      <td>TTAGCTCTTAAACTTTAAGGGCTCACAACACTACAACAAG</td>\n",
       "    </tr>\n",
       "    <tr>\n",
       "      <th>LTR2B sgRNA3</th>\n",
       "      <td>GACACCGAGTTGTAGAAGGA</td>\n",
       "      <td>LTR2B sgRNA3</td>\n",
       "      <td>TTGGACACCGAGTTGTAGAAGGAGTTTAAGAGC</td>\n",
       "      <td>TTAGCTCTTAAACTCCTTCTACAACTCGGTGTCCAACAAG</td>\n",
       "    </tr>\n",
       "    <tr>\n",
       "      <th>LTR2B sgRNA4</th>\n",
       "      <td>CTTTATTCAGCTGGGAGCAT</td>\n",
       "      <td>LTR2B sgRNA4</td>\n",
       "      <td>TTGCTTTATTCAGCTGGGAGCATGTTTAAGAGC</td>\n",
       "      <td>TTAGCTCTTAAACATGCTCCCAGCTGAATAAAGCAACAAG</td>\n",
       "    </tr>\n",
       "  </tbody>\n",
       "</table>\n",
       "</div>"
      ],
      "text/plain": [
       "                             sgRNA          name  \\\n",
       "sgRNA_name                                         \n",
       "LTR2B sgRNA1  TTAACTACTGGGTTTAGGCC  LTR2B sgRNA1   \n",
       "LTR2B sgRNA2  TAGTGTTGTGAGCCCTTAAA  LTR2B sgRNA2   \n",
       "LTR2B sgRNA3  GACACCGAGTTGTAGAAGGA  LTR2B sgRNA3   \n",
       "LTR2B sgRNA4  CTTTATTCAGCTGGGAGCAT  LTR2B sgRNA4   \n",
       "\n",
       "                                        F_oligo  \\\n",
       "sgRNA_name                                        \n",
       "LTR2B sgRNA1  TTGTTAACTACTGGGTTTAGGCCGTTTAAGAGC   \n",
       "LTR2B sgRNA2  TTGTAGTGTTGTGAGCCCTTAAAGTTTAAGAGC   \n",
       "LTR2B sgRNA3  TTGGACACCGAGTTGTAGAAGGAGTTTAAGAGC   \n",
       "LTR2B sgRNA4  TTGCTTTATTCAGCTGGGAGCATGTTTAAGAGC   \n",
       "\n",
       "                                               R_oligo  \n",
       "sgRNA_name                                              \n",
       "LTR2B sgRNA1  TTAGCTCTTAAACGGCCTAAACCCAGTAGTTAACAACAAG  \n",
       "LTR2B sgRNA2  TTAGCTCTTAAACTTTAAGGGCTCACAACACTACAACAAG  \n",
       "LTR2B sgRNA3  TTAGCTCTTAAACTCCTTCTACAACTCGGTGTCCAACAAG  \n",
       "LTR2B sgRNA4  TTAGCTCTTAAACATGCTCCCAGCTGAATAAAGCAACAAG  "
      ]
     },
     "execution_count": 24,
     "metadata": {},
     "output_type": "execute_result"
    }
   ],
   "source": [
    "df_sgRNA['F_oligo'] = df_sgRNA['sgRNA'].apply(create_F_sequence)\n",
    "df_sgRNA['R_oligo'] = df_sgRNA['sgRNA'].apply(create_R_sequence)\n",
    "\n",
    "df_sgRNA"
   ]
  },
  {
   "cell_type": "code",
   "execution_count": 31,
   "id": "624432e2",
   "metadata": {},
   "outputs": [
    {
     "data": {
      "text/html": [
       "<div>\n",
       "<style scoped>\n",
       "    .dataframe tbody tr th:only-of-type {\n",
       "        vertical-align: middle;\n",
       "    }\n",
       "\n",
       "    .dataframe tbody tr th {\n",
       "        vertical-align: top;\n",
       "    }\n",
       "\n",
       "    .dataframe thead th {\n",
       "        text-align: right;\n",
       "    }\n",
       "</style>\n",
       "<table border=\"1\" class=\"dataframe\">\n",
       "  <thead>\n",
       "    <tr style=\"text-align: right;\">\n",
       "      <th></th>\n",
       "      <th>order_name</th>\n",
       "      <th>Sequence</th>\n",
       "    </tr>\n",
       "  </thead>\n",
       "  <tbody>\n",
       "    <tr>\n",
       "      <th>0</th>\n",
       "      <td>LTR2B sgRNA1 F</td>\n",
       "      <td>TTGTTAACTACTGGGTTTAGGCCGTTTAAGAGC</td>\n",
       "    </tr>\n",
       "    <tr>\n",
       "      <th>4</th>\n",
       "      <td>LTR2B sgRNA1 R</td>\n",
       "      <td>TTAGCTCTTAAACGGCCTAAACCCAGTAGTTAACAACAAG</td>\n",
       "    </tr>\n",
       "    <tr>\n",
       "      <th>1</th>\n",
       "      <td>LTR2B sgRNA2 F</td>\n",
       "      <td>TTGTAGTGTTGTGAGCCCTTAAAGTTTAAGAGC</td>\n",
       "    </tr>\n",
       "    <tr>\n",
       "      <th>5</th>\n",
       "      <td>LTR2B sgRNA2 R</td>\n",
       "      <td>TTAGCTCTTAAACTTTAAGGGCTCACAACACTACAACAAG</td>\n",
       "    </tr>\n",
       "    <tr>\n",
       "      <th>2</th>\n",
       "      <td>LTR2B sgRNA3 F</td>\n",
       "      <td>TTGGACACCGAGTTGTAGAAGGAGTTTAAGAGC</td>\n",
       "    </tr>\n",
       "    <tr>\n",
       "      <th>6</th>\n",
       "      <td>LTR2B sgRNA3 R</td>\n",
       "      <td>TTAGCTCTTAAACTCCTTCTACAACTCGGTGTCCAACAAG</td>\n",
       "    </tr>\n",
       "    <tr>\n",
       "      <th>3</th>\n",
       "      <td>LTR2B sgRNA4 F</td>\n",
       "      <td>TTGCTTTATTCAGCTGGGAGCATGTTTAAGAGC</td>\n",
       "    </tr>\n",
       "    <tr>\n",
       "      <th>7</th>\n",
       "      <td>LTR2B sgRNA4 R</td>\n",
       "      <td>TTAGCTCTTAAACATGCTCCCAGCTGAATAAAGCAACAAG</td>\n",
       "    </tr>\n",
       "  </tbody>\n",
       "</table>\n",
       "</div>"
      ],
      "text/plain": [
       "       order_name                                  Sequence\n",
       "0  LTR2B sgRNA1 F         TTGTTAACTACTGGGTTTAGGCCGTTTAAGAGC\n",
       "4  LTR2B sgRNA1 R  TTAGCTCTTAAACGGCCTAAACCCAGTAGTTAACAACAAG\n",
       "1  LTR2B sgRNA2 F         TTGTAGTGTTGTGAGCCCTTAAAGTTTAAGAGC\n",
       "5  LTR2B sgRNA2 R  TTAGCTCTTAAACTTTAAGGGCTCACAACACTACAACAAG\n",
       "2  LTR2B sgRNA3 F         TTGGACACCGAGTTGTAGAAGGAGTTTAAGAGC\n",
       "6  LTR2B sgRNA3 R  TTAGCTCTTAAACTCCTTCTACAACTCGGTGTCCAACAAG\n",
       "3  LTR2B sgRNA4 F         TTGCTTTATTCAGCTGGGAGCATGTTTAAGAGC\n",
       "7  LTR2B sgRNA4 R  TTAGCTCTTAAACATGCTCCCAGCTGAATAAAGCAACAAG"
      ]
     },
     "execution_count": 31,
     "metadata": {},
     "output_type": "execute_result"
    }
   ],
   "source": [
    "df_ordersheet = df_sgRNA.melt(id_vars=['sgRNA', 'name'], value_name=\"Sequence\")\n",
    "df_ordersheet['order_name'] = df_ordersheet.apply(lambda x: \"{} {}\".format(x['name'], x['variable'][0]), axis=1)\n",
    "cols = ['order_name', 'Sequence']\n",
    "df_ordersheet = df_ordersheet[cols].sort_values('order_name')\n",
    "df_ordersheet"
   ]
  },
  {
   "cell_type": "code",
   "execution_count": 32,
   "id": "6895e6f0-a381-407a-85f1-17819e060cb4",
   "metadata": {},
   "outputs": [
    {
     "name": "stdout",
     "output_type": "stream",
     "text": [
      "TTGTTAACTACTGGGTTTAGGCCGTTTAAGAGC\n",
      "TTAGCTCTTAAACGGCCTAAACCCAGTAGTTAACAACAAG\n",
      "TTGTAGTGTTGTGAGCCCTTAAAGTTTAAGAGC\n",
      "TTAGCTCTTAAACTTTAAGGGCTCACAACACTACAACAAG\n",
      "TTGGACACCGAGTTGTAGAAGGAGTTTAAGAGC\n",
      "TTAGCTCTTAAACTCCTTCTACAACTCGGTGTCCAACAAG\n",
      "TTGCTTTATTCAGCTGGGAGCATGTTTAAGAGC\n",
      "TTAGCTCTTAAACATGCTCCCAGCTGAATAAAGCAACAAG\n"
     ]
    }
   ],
   "source": [
    "print('\\n'.join(df_ordersheet['Sequence'].to_list()))"
   ]
  },
  {
   "cell_type": "code",
   "execution_count": 33,
   "id": "0fd129f4",
   "metadata": {},
   "outputs": [
    {
     "name": "stdout",
     "output_type": "stream",
     "text": [
      "/gladstone/alexanian/datasets-online/Github/vTEtools/tools_jupyterNotebook\n"
     ]
    }
   ],
   "source": [
    "!pwd"
   ]
  },
  {
   "cell_type": "code",
   "execution_count": 17,
   "id": "35e6ee14-c462-41f8-830a-236813b6b840",
   "metadata": {},
   "outputs": [],
   "source": [
    "fp = \"hLTR2B_sgRNA_order_sheet.xlsx\"\n",
    "df_ordersheet[cols].to_excel(fp, index=False)"
   ]
  },
  {
   "cell_type": "code",
   "execution_count": null,
   "id": "feddf7e0-f38a-408a-898e-6f6744758053",
   "metadata": {},
   "outputs": [],
   "source": []
  }
 ],
 "metadata": {
  "kernelspec": {
   "display_name": "Python 3 (ipykernel)",
   "language": "python",
   "name": "python3"
  },
  "language_info": {
   "codemirror_mode": {
    "name": "ipython",
    "version": 3
   },
   "file_extension": ".py",
   "mimetype": "text/x-python",
   "name": "python",
   "nbconvert_exporter": "python",
   "pygments_lexer": "ipython3",
   "version": "3.10.13"
  },
  "widgets": {
   "application/vnd.jupyter.widget-state+json": {
    "state": {},
    "version_major": 2,
    "version_minor": 0
   }
  }
 },
 "nbformat": 4,
 "nbformat_minor": 5
}
